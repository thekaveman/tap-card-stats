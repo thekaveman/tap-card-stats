{
 "cells": [
  {
   "cell_type": "code",
   "execution_count": null,
   "metadata": {},
   "outputs": [],
   "source": [
    "from dotenv import load_dotenv\n",
    "import os\n",
    "from playwright.async_api import async_playwright, expect\n",
    "\n",
    "load_dotenv()"
   ]
  },
  {
   "cell_type": "code",
   "execution_count": null,
   "metadata": {},
   "outputs": [],
   "source": [
    "playwright = await async_playwright().start()\n",
    "browser = await playwright.chromium.launch(headless=False)\n",
    "context = await browser.new_context()\n",
    "context.set_default_timeout(0)\n",
    "\n",
    "page = await context.new_page()"
   ]
  },
  {
   "cell_type": "code",
   "execution_count": null,
   "metadata": {},
   "outputs": [],
   "source": [
    "await page.goto(\"https://www.taptogo.net/?startURL=%2FTAPCards\")\n",
    "\n",
    "await page.get_by_label(\"Email\").fill(os.environ[\"TAP_EMAIL\"])\n",
    "await page.get_by_label(\"Password\").fill(os.environ[\"TAP_PASSWORD\"])\n",
    "await page.get_by_role(\"button\", name=\"Sign in\").first.click()\n",
    "\n",
    "await expect(page.get_by_role(\"heading\", name=\"Active Cards\")).to_be_visible()"
   ]
  },
  {
   "cell_type": "code",
   "execution_count": null,
   "metadata": {},
   "outputs": [],
   "source": [
    "await context.close()\n",
    "await browser.close()\n",
    "await playwright.stop()"
   ]
  }
 ],
 "metadata": {
  "kernelspec": {
   "display_name": ".venv",
   "language": "python",
   "name": "python3"
  },
  "language_info": {
   "codemirror_mode": {
    "name": "ipython",
    "version": 3
   },
   "file_extension": ".py",
   "mimetype": "text/x-python",
   "name": "python",
   "nbconvert_exporter": "python",
   "pygments_lexer": "ipython3",
   "version": "3.11.7"
  }
 },
 "nbformat": 4,
 "nbformat_minor": 2
}
